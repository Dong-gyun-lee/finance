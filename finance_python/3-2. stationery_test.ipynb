{
 "cells": [
  {
   "cell_type": "markdown",
   "id": "10eb3375",
   "metadata": {},
   "source": [
    "## 1. 시계열의 정상성 테스트"
   ]
  },
  {
   "cell_type": "markdown",
   "id": "f2f27abb",
   "metadata": {},
   "source": [
    "정상성 : 평균, 분산, 공분산 등의 통계적 속성에 시간에 대해 일정한 시계열"
   ]
  },
  {
   "cell_type": "code",
   "execution_count": 3,
   "id": "3d90a92e",
   "metadata": {},
   "outputs": [],
   "source": [
    "import pandas as pd\n",
    "from statsmodels.graphics.tsaplots import plot_acf,plot_pacf\n",
    "from statsmodels.tsa.stattools import adfuller, kpss\n",
    "import quandl"
   ]
  },
  {
   "cell_type": "code",
   "execution_count": 4,
   "id": "b0a4834e",
   "metadata": {},
   "outputs": [],
   "source": [
    "QUANDL_KEY = '개별 API KEY' # replace {key} with your own API key  \n",
    "quandl.ApiConfig.api_key = QUANDL_KEY\n",
    "\n",
    "gold = quandl.get(dataset='WGC/GOLD_MONAVG_USD',start_date='2001-01-01', end_date='2018-12-31')\n",
    "gold_monthly = gold.resample('M').last()"
   ]
  },
  {
   "cell_type": "code",
   "execution_count": 5,
   "id": "43957756",
   "metadata": {},
   "outputs": [
    {
     "data": {
      "text/html": [
       "<div>\n",
       "<style scoped>\n",
       "    .dataframe tbody tr th:only-of-type {\n",
       "        vertical-align: middle;\n",
       "    }\n",
       "\n",
       "    .dataframe tbody tr th {\n",
       "        vertical-align: top;\n",
       "    }\n",
       "\n",
       "    .dataframe thead th {\n",
       "        text-align: right;\n",
       "    }\n",
       "</style>\n",
       "<table border=\"1\" class=\"dataframe\">\n",
       "  <thead>\n",
       "    <tr style=\"text-align: right;\">\n",
       "      <th></th>\n",
       "      <th>Value</th>\n",
       "    </tr>\n",
       "    <tr>\n",
       "      <th>Date</th>\n",
       "      <th></th>\n",
       "    </tr>\n",
       "  </thead>\n",
       "  <tbody>\n",
       "    <tr>\n",
       "      <th>2001-01-31</th>\n",
       "      <td>265.49</td>\n",
       "    </tr>\n",
       "    <tr>\n",
       "      <th>2001-02-28</th>\n",
       "      <td>261.86</td>\n",
       "    </tr>\n",
       "    <tr>\n",
       "      <th>2001-03-31</th>\n",
       "      <td>263.03</td>\n",
       "    </tr>\n",
       "    <tr>\n",
       "      <th>2001-04-30</th>\n",
       "      <td>260.48</td>\n",
       "    </tr>\n",
       "    <tr>\n",
       "      <th>2001-05-31</th>\n",
       "      <td>272.35</td>\n",
       "    </tr>\n",
       "    <tr>\n",
       "      <th>2001-06-30</th>\n",
       "      <td>270.23</td>\n",
       "    </tr>\n",
       "    <tr>\n",
       "      <th>2001-07-31</th>\n",
       "      <td>267.53</td>\n",
       "    </tr>\n",
       "    <tr>\n",
       "      <th>2001-08-31</th>\n",
       "      <td>272.39</td>\n",
       "    </tr>\n",
       "    <tr>\n",
       "      <th>2001-09-30</th>\n",
       "      <td>283.42</td>\n",
       "    </tr>\n",
       "    <tr>\n",
       "      <th>2001-10-31</th>\n",
       "      <td>283.06</td>\n",
       "    </tr>\n",
       "  </tbody>\n",
       "</table>\n",
       "</div>"
      ],
      "text/plain": [
       "             Value\n",
       "Date              \n",
       "2001-01-31  265.49\n",
       "2001-02-28  261.86\n",
       "2001-03-31  263.03\n",
       "2001-04-30  260.48\n",
       "2001-05-31  272.35\n",
       "2001-06-30  270.23\n",
       "2001-07-31  267.53\n",
       "2001-08-31  272.39\n",
       "2001-09-30  283.42\n",
       "2001-10-31  283.06"
      ]
     },
     "execution_count": 5,
     "metadata": {},
     "output_type": "execute_result"
    }
   ],
   "source": [
    "gold_monthly.head(10)"
   ]
  },
  {
   "cell_type": "code",
   "execution_count": 8,
   "id": "a60bff6c",
   "metadata": {},
   "outputs": [
    {
     "name": "stdout",
     "output_type": "stream",
     "text": [
      "<class 'pandas.core.frame.DataFrame'>\n",
      "DatetimeIndex: 216 entries, 2001-01-31 to 2018-12-31\n",
      "Freq: M\n",
      "Data columns (total 1 columns):\n",
      " #   Column  Non-Null Count  Dtype  \n",
      "---  ------  --------------  -----  \n",
      " 0   Value   216 non-null    float64\n",
      "dtypes: float64(1)\n",
      "memory usage: 3.4 KB\n"
     ]
    }
   ],
   "source": [
    "gold_monthly.info()"
   ]
  },
  {
   "cell_type": "markdown",
   "id": "4fc32b15",
   "metadata": {},
   "source": [
    "### 1) ADF test"
   ]
  },
  {
   "cell_type": "code",
   "execution_count": 7,
   "id": "1ceb7658",
   "metadata": {},
   "outputs": [
    {
     "data": {
      "text/plain": [
       "(-1.3790201002152396,\n",
       " 0.5922918005922374,\n",
       " 1,\n",
       " 214,\n",
       " {'1%': -3.4612821203214907,\n",
       "  '5%': -2.875142613826617,\n",
       "  '10%': -2.574020122281422},\n",
       " 2044.9526441425774)"
      ]
     },
     "execution_count": 7,
     "metadata": {},
     "output_type": "execute_result"
    }
   ],
   "source": [
    "adfuller(gold_monthly,autolag='AIC')"
   ]
  },
  {
   "cell_type": "code",
   "execution_count": 14,
   "id": "8b4cc4db",
   "metadata": {},
   "outputs": [],
   "source": [
    "def adf_test(x):\n",
    "    indices = ['Test Statistic', 'p-value','# Lags', '# Observation']\n",
    "    \n",
    "    adf_test = adfuller(x, autolag='AIC')\n",
    "    results = pd.Series(adf_test[0:4], index=indices)\n",
    "    \n",
    "    for key, value in adf_test[4].items():\n",
    "        results[f'Critical Value ({key})'] = value\n",
    "\n",
    "    return results"
   ]
  },
  {
   "cell_type": "code",
   "execution_count": 15,
   "id": "92f3c7de",
   "metadata": {},
   "outputs": [
    {
     "data": {
      "text/plain": [
       "Test Statistic           -1.379020\n",
       "p-value                   0.592292\n",
       "# Lags                    1.000000\n",
       "# Observation           214.000000\n",
       "Critical Value (1%)      -3.461282\n",
       "Critical Value (5%)      -2.875143\n",
       "Critical Value (10%)     -2.574020\n",
       "dtype: float64"
      ]
     },
     "execution_count": 15,
     "metadata": {},
     "output_type": "execute_result"
    }
   ],
   "source": [
    "adf_test(gold_monthly)"
   ]
  },
  {
   "cell_type": "markdown",
   "id": "e4d7b999",
   "metadata": {},
   "source": [
    "p-value가 약 0.59로 '시계열이 정상성이 아니다.'라는 귀무가설을 기각하는 증거가 되지 못한다. 따라서, 금 가격 데이터는 정상성을 만족하지 못한다."
   ]
  },
  {
   "cell_type": "markdown",
   "id": "9ea676fc",
   "metadata": {},
   "source": [
    "### 2) KPSS test"
   ]
  },
  {
   "cell_type": "code",
   "execution_count": 17,
   "id": "a2ddb221",
   "metadata": {},
   "outputs": [
    {
     "name": "stderr",
     "output_type": "stream",
     "text": [
      "/Users/idong-gyun/opt/miniconda3/envs/py36/lib/python3.6/site-packages/statsmodels/tsa/stattools.py:1875: FutureWarning: The behavior of using nlags=None will change in release 0.13.Currently nlags=None is the same as nlags=\"legacy\", and so a sample-size lag length is used. After the next release, the default will change to be the same as nlags=\"auto\" which uses an automatic lag length selection method. To silence this warning, either use \"auto\" or \"legacy\"\n",
      "  warnings.warn(msg, FutureWarning)\n",
      "/Users/idong-gyun/opt/miniconda3/envs/py36/lib/python3.6/site-packages/statsmodels/tsa/stattools.py:1907: InterpolationWarning: The test statistic is outside of the range of p-values available in the\n",
      "look-up table. The actual p-value is smaller than the p-value returned.\n",
      "\n",
      "  warn_msg.format(direction=\"smaller\"), InterpolationWarning\n"
     ]
    },
    {
     "data": {
      "text/plain": [
       "(1.1597963699578604,\n",
       " 0.01,\n",
       " 15,\n",
       " {'10%': 0.347, '5%': 0.463, '2.5%': 0.574, '1%': 0.739})"
      ]
     },
     "execution_count": 17,
     "metadata": {},
     "output_type": "execute_result"
    }
   ],
   "source": [
    "kpss(gold_monthly,regression='c')"
   ]
  },
  {
   "cell_type": "code",
   "execution_count": 18,
   "id": "bb9b2b0e",
   "metadata": {},
   "outputs": [],
   "source": [
    "# regression ='c': 귀무가설이 '시계열이 레벨-정상성' 이다.\n",
    "# regression ='ct': 귀무가설이 '시계열이 추세-정상성' 이다. (추세-정상성: 계열에서 추세를 제거하면 레벨-정상성이 된다.)\n",
    "\n",
    "\n",
    "def kpss_test(x, h0_type): \n",
    "    indices = ['Test Statistic', 'p-value', '# Lags']\n",
    "\n",
    "    kpss_test = kpss(x, regression=h0_type)\n",
    "    results = pd.Series(kpss_test[0:3], index=indices)\n",
    "    \n",
    "    for key, value in kpss_test[3].items():\n",
    "        results[f'Critical Value ({key})'] = value\n",
    "\n",
    "    return results"
   ]
  },
  {
   "cell_type": "code",
   "execution_count": 19,
   "id": "91414bf2",
   "metadata": {},
   "outputs": [
    {
     "name": "stderr",
     "output_type": "stream",
     "text": [
      "/Users/idong-gyun/opt/miniconda3/envs/py36/lib/python3.6/site-packages/statsmodels/tsa/stattools.py:1907: InterpolationWarning: The test statistic is outside of the range of p-values available in the\n",
      "look-up table. The actual p-value is smaller than the p-value returned.\n",
      "\n",
      "  warn_msg.format(direction=\"smaller\"), InterpolationWarning\n"
     ]
    },
    {
     "data": {
      "text/plain": [
       "Test Statistic            1.159796\n",
       "p-value                   0.010000\n",
       "# Lags                   15.000000\n",
       "Critical Value (10%)      0.347000\n",
       "Critical Value (5%)       0.463000\n",
       "Critical Value (2.5%)     0.574000\n",
       "Critical Value (1%)       0.739000\n",
       "dtype: float64"
      ]
     },
     "execution_count": 19,
     "metadata": {},
     "output_type": "execute_result"
    }
   ],
   "source": [
    "kpss_test(gold_monthly,'c')"
   ]
  },
  {
   "cell_type": "code",
   "execution_count": 20,
   "id": "83d324ef",
   "metadata": {},
   "outputs": [
    {
     "name": "stderr",
     "output_type": "stream",
     "text": [
      "/Users/idong-gyun/opt/miniconda3/envs/py36/lib/python3.6/site-packages/statsmodels/tsa/stattools.py:1907: InterpolationWarning: The test statistic is outside of the range of p-values available in the\n",
      "look-up table. The actual p-value is smaller than the p-value returned.\n",
      "\n",
      "  warn_msg.format(direction=\"smaller\"), InterpolationWarning\n"
     ]
    },
    {
     "data": {
      "text/plain": [
       "Test Statistic            0.244145\n",
       "p-value                   0.010000\n",
       "# Lags                   15.000000\n",
       "Critical Value (10%)      0.119000\n",
       "Critical Value (5%)       0.146000\n",
       "Critical Value (2.5%)     0.176000\n",
       "Critical Value (1%)       0.216000\n",
       "dtype: float64"
      ]
     },
     "execution_count": 20,
     "metadata": {},
     "output_type": "execute_result"
    }
   ],
   "source": [
    "kpss_test(gold_monthly,'ct')"
   ]
  },
  {
   "cell_type": "markdown",
   "id": "467aee0b",
   "metadata": {},
   "source": [
    "### 3) ACF 그래프 생성"
   ]
  },
  {
   "cell_type": "markdown",
   "id": "a556861a",
   "metadata": {},
   "source": [
    "1) ACF : 시차에 따른 일련의 자기 상관을 의미하며, 정상 시계열은 상대적으로 빠르게 0에 수렴하며, 비정상 시계열은 천천히 감소한다. <br> \n",
    "$y_t$와 $y_{t+k}$ 사이의 자기상관을 구하는 식은 아래와 같다.\n",
    "\n",
    "$$\n",
    "\\begin{align}\n",
    "ACF(k) = \\frac{\\sum_{t=1}^{N-k}(y_t-\\bar{y})(y_{t+k}-\\bar{y})}{\\sum_{i=1}^{N}(y_t-\\bar{y})^2}\n",
    "\\end{align}\n",
    "$$\n",
    "\n",
    "2) PACF : 시차에 따른 일련의 편자기 상관이며, 시차가 다른 두 시계열 데이터 간의 순수한 상호 연관성이다. <br>\n",
    "$y_t$와 $y_{t+k}$ 사이의 편자기상관을 구하는 식은 아래와 같다.\n",
    "\n",
    "$$\n",
    "\\begin{align}\n",
    "PACF(k) = Corr(e_t,e_{t-k})\n",
    "\\end{align}\n",
    "$$\n",
    "\n",
    "$e_t = y_t - \\left(\\beta_1y_{t-1}+\\cdots+\\beta_{k-1}y_{t-(k-1)}\\right)$"
   ]
  },
  {
   "cell_type": "code",
   "execution_count": 24,
   "id": "c6d53a9a",
   "metadata": {},
   "outputs": [
    {
     "data": {
      "image/png": "[encoded data removed]",
      "text/plain": [
       "<Figure size 432x288 with 2 Axes>"
      ]
     },
     "metadata": {
      "needs_background": "light"
     },
     "output_type": "display_data"
    }
   ],
   "source": [
    "import matplotlib.pyplot as plt\n",
    "\n",
    "N_LAGS = 50\n",
    "SIGNIFICANCE_LEVEL = 0.05\n",
    "\n",
    "fig, ax = plt.subplots(2, 1)\n",
    "plot_acf(gold_monthly.Value, ax=ax[0], lags=N_LAGS, \n",
    "         alpha=SIGNIFICANCE_LEVEL)\n",
    "plot_pacf(gold_monthly.Value, ax=ax[1], lags=N_LAGS, \n",
    "          alpha=SIGNIFICANCE_LEVEL)\n",
    "\n",
    "plt.tight_layout()\n",
    "plt.show()"
   ]
  },
  {
   "cell_type": "markdown",
   "id": "ed5f3908",
   "metadata": {},
   "source": [
    "- ACF 그래프에서 천천히 감소하는 형태를 보이므로, 비정상성을 가짐을 알 수 있다. PACF 그래프에서도 lag1, 2 에서 유의한 자기 상관이 있음을 알 수 있다. "
   ]
  },
  {
   "cell_type": "markdown",
   "id": "bcddb36c",
   "metadata": {},
   "source": [
    "## 2. 시계열 정상성 교정 "
   ]
  },
  {
   "cell_type": "markdown",
   "id": "4bb2d0b7",
   "metadata": {},
   "source": [
    "### 1) 디플레이션 및 자연 로그 변환 "
   ]
  },
  {
   "cell_type": "markdown",
   "id": "3ee3e109",
   "metadata": {},
   "source": [
    "1) 디플레이션 : 소비자 물가지수를 이용해 인플레이션을 반영한다. <br>\n",
    "2) 자연 로그 변환 : 추세를 선형에 가깝게 만든다. <br>\n",
    "3) 차분 : 현 관측값과 지연 값 사이의 차이를 취한다."
   ]
  },
  {
   "cell_type": "markdown",
   "id": "6b46a339",
   "metadata": {},
   "source": [
    "- 먼저 소비자 물가지수를 이용하여 금 가격을 디플레이션 시킨다."
   ]
  },
  {
   "cell_type": "code",
   "execution_count": 49,
   "id": "02167548",
   "metadata": {},
   "outputs": [],
   "source": [
    "import cpi\n",
    "from datetime import date\n",
    "import numpy as np"
   ]
  },
  {
   "cell_type": "code",
   "execution_count": 50,
   "id": "5e7392df",
   "metadata": {},
   "outputs": [
    {
     "data": {
      "image/png": "[encoded data removed]",
      "text/plain": [
       "<Figure size 432x288 with 1 Axes>"
      ]
     },
     "metadata": {
      "needs_background": "light"
     },
     "output_type": "display_data"
    }
   ],
   "source": [
    "DEFL_DATE = date(2018, 12, 31)\n",
    "\n",
    "gold_monthly['dt_index'] = gold_monthly.index.map(lambda x: x.to_pydatetime().date())\n",
    "gold_monthly['price_deflated'] = gold_monthly.apply(lambda x: cpi.inflate(x.Value,x.dt_index, DEFL_DATE), axis=1)\n",
    "gold_monthly[['Value', 'price_deflated']].plot(title='Gold Price (deflated)')\n",
    "plt.tight_layout()\n",
    "plt.show()"
   ]
  },
  {
   "cell_type": "markdown",
   "id": "d4944299",
   "metadata": {},
   "source": [
    "- 자연 로그를 사용해 다시 한번 디플레이션 시키고, 시각화한다."
   ]
  },
  {
   "cell_type": "code",
   "execution_count": 52,
   "id": "4a088506",
   "metadata": {},
   "outputs": [
    {
     "data": {
      "image/png": "[encoded data removed]",
      "text/plain": [
       "<Figure size 432x288 with 1 Axes>"
      ]
     },
     "metadata": {
      "needs_background": "light"
     },
     "output_type": "display_data"
    }
   ],
   "source": [
    "window = 12\n",
    "\n",
    "selected_columns = ['price_log', 'rolling_mean_log', 'rolling_std_log']\n",
    "\n",
    "gold_monthly['price_log'] = np.log(gold_monthly.price_deflated)\n",
    "gold_monthly['rolling_mean_log'] = gold_monthly.price_log.rolling(window).mean()\n",
    "gold_monthly['rolling_std_log'] = gold_monthly.price_log.rolling(window).std()\n",
    "\n",
    "gold_monthly[selected_columns].plot(title='Gold Price (logged)')\n",
    "\n",
    "plt.tight_layout()\n",
    "plt.show()"
   ]
  },
  {
   "cell_type": "markdown",
   "id": "c853daf4",
   "metadata": {},
   "source": [
    "위의 그림에서 로그 변환을 했을 때, 추세를 선형에 가깝게 만들어 줄 수 있음을 볼 수 있다."
   ]
  },
  {
   "cell_type": "code",
   "execution_count": 53,
   "id": "dfc734f6",
   "metadata": {},
   "outputs": [
    {
     "data": {
      "image/png": "[encoded data removed]",
      "text/plain": [
       "<Figure size 432x288 with 2 Axes>"
      ]
     },
     "metadata": {
      "needs_background": "light"
     },
     "output_type": "display_data"
    }
   ],
   "source": [
    "N_LAGS = 50\n",
    "SIGNIFICANCE_LEVEL = 0.05\n",
    "\n",
    "fig, ax = plt.subplots(2, 1)\n",
    "plot_acf(gold_monthly.price_log, ax=ax[0], lags=N_LAGS, \n",
    "         alpha=SIGNIFICANCE_LEVEL)\n",
    "plot_pacf(gold_monthly.price_log, ax=ax[1], lags=N_LAGS, \n",
    "          alpha=SIGNIFICANCE_LEVEL)\n",
    "\n",
    "plt.tight_layout()\n",
    "plt.show()"
   ]
  },
  {
   "cell_type": "markdown",
   "id": "15fc8249",
   "metadata": {},
   "source": [
    "ACF 그래프를 확인해 봤을 때, 디플레이션과 자연 로그 변환을 통해서 금 가격을 정상적으로 만들기에는 충분하지 않았다는 것을 알 수 있다."
   ]
  },
  {
   "cell_type": "code",
   "execution_count": 55,
   "id": "b183740b",
   "metadata": {},
   "outputs": [
    {
     "data": {
      "text/plain": [
       "Test Statistic           -2.042539\n",
       "p-value                   0.268238\n",
       "# Lags                    1.000000\n",
       "# Observation           214.000000\n",
       "Critical Value (1%)      -3.461282\n",
       "Critical Value (5%)      -2.875143\n",
       "Critical Value (10%)     -2.574020\n",
       "dtype: float64"
      ]
     },
     "execution_count": 55,
     "metadata": {},
     "output_type": "execute_result"
    }
   ],
   "source": [
    "adf_test(gold_monthly.price_log)"
   ]
  },
  {
   "cell_type": "code",
   "execution_count": 56,
   "id": "4e935f8f",
   "metadata": {},
   "outputs": [
    {
     "name": "stderr",
     "output_type": "stream",
     "text": [
      "/Users/idong-gyun/opt/miniconda3/envs/py36/lib/python3.6/site-packages/statsmodels/tsa/stattools.py:1875: FutureWarning: The behavior of using nlags=None will change in release 0.13.Currently nlags=None is the same as nlags=\"legacy\", and so a sample-size lag length is used. After the next release, the default will change to be the same as nlags=\"auto\" which uses an automatic lag length selection method. To silence this warning, either use \"auto\" or \"legacy\"\n",
      "  warnings.warn(msg, FutureWarning)\n",
      "/Users/idong-gyun/opt/miniconda3/envs/py36/lib/python3.6/site-packages/statsmodels/tsa/stattools.py:1907: InterpolationWarning: The test statistic is outside of the range of p-values available in the\n",
      "look-up table. The actual p-value is smaller than the p-value returned.\n",
      "\n",
      "  warn_msg.format(direction=\"smaller\"), InterpolationWarning\n"
     ]
    },
    {
     "data": {
      "text/plain": [
       "Test Statistic            1.162693\n",
       "p-value                   0.010000\n",
       "# Lags                   15.000000\n",
       "Critical Value (10%)      0.347000\n",
       "Critical Value (5%)       0.463000\n",
       "Critical Value (2.5%)     0.574000\n",
       "Critical Value (1%)       0.739000\n",
       "dtype: float64"
      ]
     },
     "execution_count": 56,
     "metadata": {},
     "output_type": "execute_result"
    }
   ],
   "source": [
    "kpss_test(gold_monthly.price_log,'c')"
   ]
  },
  {
   "cell_type": "markdown",
   "id": "5adedea8",
   "metadata": {},
   "source": [
    "ADF test와 KPSS test 에서도 금 가격 데이터가 정상성을 만족하지 못한다는 것을 알 수 있다."
   ]
  },
  {
   "cell_type": "markdown",
   "id": "9d736453",
   "metadata": {},
   "source": [
    "- 로그 변환한 데이터에 1차 차분을 적용하여 다시 결과를 본다."
   ]
  },
  {
   "cell_type": "code",
   "execution_count": 58,
   "id": "548f56b6",
   "metadata": {},
   "outputs": [
    {
     "data": {
      "image/png": "[encoded data removed]",
      "text/plain": [
       "<Figure size 432x288 with 1 Axes>"
      ]
     },
     "metadata": {
      "needs_background": "light"
     },
     "output_type": "display_data"
    }
   ],
   "source": [
    "selected_columns = ['price_log_diff', 'roll_mean_log_diff', 'roll_std_log_diff']\n",
    "\n",
    "\n",
    "gold_monthly['price_log_diff'] = gold_monthly.price_log.diff(1)\n",
    "gold_monthly['roll_mean_log_diff'] = gold_monthly.price_log_diff.rolling(window).mean()\n",
    "gold_monthly['roll_std_log_diff'] = gold_monthly.price_log_diff.rolling(window).std()\n",
    "gold_monthly[selected_columns].plot(title='Gold Price (1st differences)')\n",
    "\n",
    "plt.tight_layout()\n",
    "plt.show()"
   ]
  },
  {
   "cell_type": "code",
   "execution_count": 60,
   "id": "39aab0fc",
   "metadata": {},
   "outputs": [
    {
     "data": {
      "image/png": "[encoded data removed]",
      "text/plain": [
       "<Figure size 432x288 with 2 Axes>"
      ]
     },
     "metadata": {
      "needs_background": "light"
     },
     "output_type": "display_data"
    }
   ],
   "source": [
    "N_LAGS = 50\n",
    "SIGNIFICANCE_LEVEL = 0.05\n",
    "\n",
    "fig, ax = plt.subplots(2, 1)\n",
    "plot_acf(gold_monthly.price_log_diff.dropna(), ax=ax[0], lags=N_LAGS, \n",
    "         alpha=SIGNIFICANCE_LEVEL)\n",
    "plot_pacf(gold_monthly.price_log_diff.dropna(), ax=ax[1], lags=N_LAGS, \n",
    "          alpha=SIGNIFICANCE_LEVEL)\n",
    "\n",
    "plt.tight_layout()\n",
    "plt.show()"
   ]
  },
  {
   "cell_type": "markdown",
   "id": "57e4bbf8",
   "metadata": {},
   "source": [
    "ACF 그래프를 보면, 0으로 빠르게 수렴하는 모습을 보여주므로 정상 시계열의 형태를 보인다고 할 수 있다."
   ]
  },
  {
   "cell_type": "code",
   "execution_count": 61,
   "id": "235653d2",
   "metadata": {},
   "outputs": [
    {
     "data": {
      "text/plain": [
       "Test Statistic         -1.284916e+01\n",
       "p-value                 5.398966e-24\n",
       "# Lags                  0.000000e+00\n",
       "# Observation           2.140000e+02\n",
       "Critical Value (1%)    -3.461282e+00\n",
       "Critical Value (5%)    -2.875143e+00\n",
       "Critical Value (10%)   -2.574020e+00\n",
       "dtype: float64"
      ]
     },
     "execution_count": 61,
     "metadata": {},
     "output_type": "execute_result"
    }
   ],
   "source": [
    "adf_test(gold_monthly.price_log_diff.dropna())"
   ]
  },
  {
   "cell_type": "code",
   "execution_count": 62,
   "id": "5243805c",
   "metadata": {},
   "outputs": [
    {
     "name": "stderr",
     "output_type": "stream",
     "text": [
      "/Users/idong-gyun/opt/miniconda3/envs/py36/lib/python3.6/site-packages/statsmodels/tsa/stattools.py:1875: FutureWarning: The behavior of using nlags=None will change in release 0.13.Currently nlags=None is the same as nlags=\"legacy\", and so a sample-size lag length is used. After the next release, the default will change to be the same as nlags=\"auto\" which uses an automatic lag length selection method. To silence this warning, either use \"auto\" or \"legacy\"\n",
      "  warnings.warn(msg, FutureWarning)\n"
     ]
    },
    {
     "data": {
      "text/plain": [
       "Test Statistic            0.473357\n",
       "p-value                   0.047667\n",
       "# Lags                   15.000000\n",
       "Critical Value (10%)      0.347000\n",
       "Critical Value (5%)       0.463000\n",
       "Critical Value (2.5%)     0.574000\n",
       "Critical Value (1%)       0.739000\n",
       "dtype: float64"
      ]
     },
     "execution_count": 62,
     "metadata": {},
     "output_type": "execute_result"
    }
   ],
   "source": [
    "kpss_test(gold_monthly.price_log_diff.dropna(),'c')"
   ]
  },
  {
   "cell_type": "markdown",
   "id": "83afdf30",
   "metadata": {},
   "source": [
    "ADF test 와 KPSS test 결과를 봤을 때도, 금 가격 데이터가 정상성을 만족한다고 볼 수 있다."
   ]
  },
  {
   "cell_type": "markdown",
   "id": "0e88d29d",
   "metadata": {},
   "source": [
    "## 차분으로 조정하는 방법"
   ]
  },
  {
   "cell_type": "markdown",
   "id": "9a6544fb",
   "metadata": {},
   "source": [
    "### 1) 차분의 차수 알아내기"
   ]
  },
  {
   "cell_type": "code",
   "execution_count": 66,
   "id": "58b2d7e9",
   "metadata": {},
   "outputs": [],
   "source": [
    "from pmdarima.arima import ndiffs, nsdiffs"
   ]
  },
  {
   "cell_type": "code",
   "execution_count": 68,
   "id": "dbb03f07",
   "metadata": {},
   "outputs": [
    {
     "name": "stdout",
     "output_type": "stream",
     "text": [
      "Suggested # of differences (ADF): 1\n",
      "Suggested # of differences (KPSS): 1\n",
      "Suggested # of differences (PP): 1\n"
     ]
    }
   ],
   "source": [
    "print(f\"Suggested # of differences (ADF): {ndiffs(gold_monthly.Value, test='adf')}\")\n",
    "print(f\"Suggested # of differences (KPSS): {ndiffs(gold_monthly.Value, test='kpss')}\")\n",
    "print(f\"Suggested # of differences (PP): {ndiffs(gold_monthly.Value, test='pp')}\")"
   ]
  },
  {
   "cell_type": "markdown",
   "id": "420e603d",
   "metadata": {},
   "source": [
    "시계열 데이터를 1차 차분하면 정상성을 만족함을 위의 결과로 알 수 있다."
   ]
  },
  {
   "cell_type": "code",
   "execution_count": 69,
   "id": "8c60c80e",
   "metadata": {},
   "outputs": [],
   "source": [
    "### 2) 계절성 검정"
   ]
  },
  {
   "cell_type": "code",
   "execution_count": 70,
   "id": "3591ab61",
   "metadata": {},
   "outputs": [
    {
     "name": "stdout",
     "output_type": "stream",
     "text": [
      "Suggested # of differences (OSCB): 0\n",
      "Suggested # of differences (CH): 0\n"
     ]
    }
   ],
   "source": [
    "print(f\"Suggested # of differences (OSCB): {nsdiffs(gold_monthly.Value, m=12, test='ocsb')}\")\n",
    "print(f\"Suggested # of differences (CH): {nsdiffs(gold_monthly.Value, m=12, test='ch')}\")"
   ]
  },
  {
   "cell_type": "markdown",
   "id": "96f7b9b9",
   "metadata": {},
   "source": [
    "금 가격에는 계절성이 존재하지 않음을 알 수 있다."
   ]
  }
 ],
 "metadata": {
  "kernelspec": {
   "display_name": "Python 3",
   "language": "python",
   "name": "python3"
  },
  "language_info": {
   "codemirror_mode": {
    "name": "ipython",
    "version": 3
   },
   "file_extension": ".py",
   "mimetype": "text/x-python",
   "name": "python",
   "nbconvert_exporter": "python",
   "pygments_lexer": "ipython3",
   "version": "3.6.13"
  }
 },
 "nbformat": 4,
 "nbformat_minor": 5
}
